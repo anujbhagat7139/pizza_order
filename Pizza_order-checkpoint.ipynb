{
 "cells": [
  {
   "cell_type": "code",
   "execution_count": null,
   "id": "f9389170",
   "metadata": {},
   "outputs": [],
   "source": [
    "size=input(\"Enter the size of the Pizza you Want S ,M ,L=\")\n",
    "peper=input(\"Do you want pepperoni Y or N\")\n",
    "cheese=input(\"Do you want extra cheese Y or N\")\n",
    "price=0\n",
    "if size==\"S\":\n",
    "    price+=15\n",
    "elif size==\"M\":\n",
    "    price+=20\n",
    "else:\n",
    "    price+=25\n",
    "if peper==\"Y\":\n",
    "    if size==\"S\": \n",
    "       price+=2\n",
    "    else:\n",
    "        price+=3\n",
    "else:\n",
    "    pass\n",
    "if cheese==\"Y\":\n",
    "    price+=1\n",
    "else:\n",
    "    pass\n",
    "\n",
    "print(f\"Your Final bill is:{price}\")"
   ]
  },
  {
   "cell_type": "code",
   "execution_count": null,
   "id": "2b7e700e",
   "metadata": {},
   "outputs": [],
   "source": []
  }
 ],
 "metadata": {
  "kernelspec": {
   "display_name": "Python 3 (ipykernel)",
   "language": "python",
   "name": "python3"
  },
  "language_info": {
   "codemirror_mode": {
    "name": "ipython",
    "version": 3
   },
   "file_extension": ".py",
   "mimetype": "text/x-python",
   "name": "python",
   "nbconvert_exporter": "python",
   "pygments_lexer": "ipython3",
   "version": "3.9.12"
  }
 },
 "nbformat": 4,
 "nbformat_minor": 5
}
